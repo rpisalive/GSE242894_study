{
 "cells": [
  {
   "cell_type": "code",
   "execution_count": 1,
   "id": "44d3b193-511b-48ab-8a70-19a55b0b9958",
   "metadata": {},
   "outputs": [],
   "source": [
    "import scanpy as sc\n",
    "import pandas as pd\n",
    "from scipy import io"
   ]
  },
  {
   "cell_type": "code",
   "execution_count": 2,
   "id": "f0a7ffcb-6ddf-4a54-8f7b-d6e55b7ca02b",
   "metadata": {},
   "outputs": [],
   "source": [
    "raw_data_path = '/users/mp01950/GSE242894/raw_data/'\n",
    "out = '/users/mp01950/GSE242894/raw_data/compass_input/'\n",
    "data_source = {'GSM7774436':'GSM7774436_coculture1_hi_rc.txt','GSM7774437':'GSM7774437_coculture2_hi_rc.txt',\n",
    "               'GSM7774438':'GSM7774438_coculture3_hi_rc.txt','GSM7774439':'GSM7774439_organoid1_hi_rc.txt',\n",
    "               'GSM7774440':'GSM7774440_organoid2_hi_rc.txt','GSM7774441':'GSM7774441_organoid3_hi_rc.txt',\n",
    "               'GSM7774442':'GSM7774442_iMac1_hi_rc.txt','GSM7774443':'GSM7774443_iMac2_hi_rc.txt'}\n",
    "sample=['GSM7774436','GSM7774437','GSM7774438','GSM7774439','GSM7774440','GSM7774441','GSM7774442','GSM7774443']\n",
    "target_cell = 'add'"
   ]
  },
  {
   "cell_type": "code",
   "execution_count": 3,
   "id": "47c8d73f-c7be-491b-a0aa-6781d65c107c",
   "metadata": {},
   "outputs": [
    {
     "name": "stderr",
     "output_type": "stream",
     "text": [
      "/tmp/ipykernel_1212815/2984806871.py:6: FutureWarning: Use anndata.concat instead of AnnData.concatenate, AnnData.concatenate is deprecated and will be removed in the future. See the tutorial for concat at: https://anndata.readthedocs.io/en/latest/concatenation.html\n",
      "  adata = GSM7774436.concatenate(GSM7774437, GSM7774438, GSM7774439,GSM7774440,GSM7774441,GSM7774442,GSM7774443,batch_key = \"Sample\")\n"
     ]
    }
   ],
   "source": [
    "#Combined all samples into one dataframe\n",
    "for i in range(len(sample)):\n",
    "    globals()[sample[i]] =  sc.read_text(raw_data_path+data_source[sample[i]], delimiter='\\t', first_column_names=True)\n",
    "    globals()[sample[i]] = globals()[sample[i]].T\n",
    "    globals()[sample[i]].var_names_make_unique()\n",
    "adata = GSM7774436.concatenate(GSM7774437, GSM7774438, GSM7774439,GSM7774440,GSM7774441,GSM7774442,GSM7774443,batch_key = \"Sample\")\n",
    "rename = []\n",
    "for j in range(len(adata)):\n",
    "    rename.append(adata.obs.index[j][0:-2])\n",
    "adata.obs.index = rename"
   ]
  },
  {
   "cell_type": "code",
   "execution_count": 4,
   "id": "a7bf3636-ce22-4cb1-9c0e-a26335ad6fdc",
   "metadata": {},
   "outputs": [],
   "source": [
    "#Add meta_data to adata object\n",
    "meta = pd.read_csv(raw_data_path+\"coorg_mixed_org.csv\", index_col=0)\n",
    "#index_rename = []\n",
    "#check_iMac = ['iMac2','iMac1']\n",
    "#for i in range(len(meta)):\n",
    "#    if meta.index[i][17:] in check_iMac:\n",
    "#        index_rename.append(meta.index[i])\n",
    "#    else:\n",
    "#        index_rename.append(meta.index[i][0:-2])\n",
    "#meta.index = index_rename\n",
    "#rct = meta.revised_cell_type\n",
    "#adata.obs['revised_cell_type'] = rct"
   ]
  },
  {
   "cell_type": "code",
   "execution_count": 5,
   "id": "9c0e78d4-c340-4355-bc39-ed7f888ef8ba",
   "metadata": {},
   "outputs": [
    {
     "data": {
      "text/html": [
       "<div>\n",
       "<style scoped>\n",
       "    .dataframe tbody tr th:only-of-type {\n",
       "        vertical-align: middle;\n",
       "    }\n",
       "\n",
       "    .dataframe tbody tr th {\n",
       "        vertical-align: top;\n",
       "    }\n",
       "\n",
       "    .dataframe thead th {\n",
       "        text-align: right;\n",
       "    }\n",
       "</style>\n",
       "<table border=\"1\" class=\"dataframe\">\n",
       "  <thead>\n",
       "    <tr style=\"text-align: right;\">\n",
       "      <th></th>\n",
       "      <th>Sample</th>\n",
       "      <th>revised_cell_type</th>\n",
       "      <th>leiden</th>\n",
       "    </tr>\n",
       "  </thead>\n",
       "  <tbody>\n",
       "    <tr>\n",
       "      <th>AAACCTGAGCTAACAA-co1</th>\n",
       "      <td>0</td>\n",
       "      <td>co-NPC</td>\n",
       "      <td>4</td>\n",
       "    </tr>\n",
       "    <tr>\n",
       "      <th>AAACCTGAGGCAGGTT-co1</th>\n",
       "      <td>0</td>\n",
       "      <td>co-NPC</td>\n",
       "      <td>1</td>\n",
       "    </tr>\n",
       "    <tr>\n",
       "      <th>AAACCTGCACGTCTCT-co1</th>\n",
       "      <td>0</td>\n",
       "      <td>co-NPC</td>\n",
       "      <td>1</td>\n",
       "    </tr>\n",
       "    <tr>\n",
       "      <th>AAACCTGGTCTGCCAG-co1</th>\n",
       "      <td>0</td>\n",
       "      <td>co-NPC</td>\n",
       "      <td>1</td>\n",
       "    </tr>\n",
       "    <tr>\n",
       "      <th>AAACCTGGTGTCGCTG-co1</th>\n",
       "      <td>0</td>\n",
       "      <td>co-neuron</td>\n",
       "      <td>10</td>\n",
       "    </tr>\n",
       "    <tr>\n",
       "      <th>...</th>\n",
       "      <td>...</td>\n",
       "      <td>...</td>\n",
       "      <td>...</td>\n",
       "    </tr>\n",
       "    <tr>\n",
       "      <th>TTTGGTTTCCCTAACC-or3</th>\n",
       "      <td>5</td>\n",
       "      <td>neuron</td>\n",
       "      <td>6</td>\n",
       "    </tr>\n",
       "    <tr>\n",
       "      <th>TTTGTCAAGATTACCC-or3</th>\n",
       "      <td>5</td>\n",
       "      <td>neuron</td>\n",
       "      <td>6</td>\n",
       "    </tr>\n",
       "    <tr>\n",
       "      <th>TTTGTCAAGTAATCCC-or3</th>\n",
       "      <td>5</td>\n",
       "      <td>NPC</td>\n",
       "      <td>4</td>\n",
       "    </tr>\n",
       "    <tr>\n",
       "      <th>TTTGTCAAGTGCGTGA-or3</th>\n",
       "      <td>5</td>\n",
       "      <td>NPC</td>\n",
       "      <td>1</td>\n",
       "    </tr>\n",
       "    <tr>\n",
       "      <th>TTTGTCACACGCCAGT-or3</th>\n",
       "      <td>5</td>\n",
       "      <td>NPC</td>\n",
       "      <td>8</td>\n",
       "    </tr>\n",
       "  </tbody>\n",
       "</table>\n",
       "<p>6860 rows × 3 columns</p>\n",
       "</div>"
      ],
      "text/plain": [
       "                      Sample revised_cell_type  leiden\n",
       "AAACCTGAGCTAACAA-co1       0            co-NPC       4\n",
       "AAACCTGAGGCAGGTT-co1       0            co-NPC       1\n",
       "AAACCTGCACGTCTCT-co1       0            co-NPC       1\n",
       "AAACCTGGTCTGCCAG-co1       0            co-NPC       1\n",
       "AAACCTGGTGTCGCTG-co1       0         co-neuron      10\n",
       "...                      ...               ...     ...\n",
       "TTTGGTTTCCCTAACC-or3       5            neuron       6\n",
       "TTTGTCAAGATTACCC-or3       5            neuron       6\n",
       "TTTGTCAAGTAATCCC-or3       5               NPC       4\n",
       "TTTGTCAAGTGCGTGA-or3       5               NPC       1\n",
       "TTTGTCACACGCCAGT-or3       5               NPC       8\n",
       "\n",
       "[6860 rows x 3 columns]"
      ]
     },
     "execution_count": 5,
     "metadata": {},
     "output_type": "execute_result"
    }
   ],
   "source": [
    "meta"
   ]
  },
  {
   "cell_type": "code",
   "execution_count": 6,
   "id": "18363af2-408f-475b-bfe6-ab529679047e",
   "metadata": {},
   "outputs": [
    {
     "data": {
      "text/html": [
       "<div>\n",
       "<style scoped>\n",
       "    .dataframe tbody tr th:only-of-type {\n",
       "        vertical-align: middle;\n",
       "    }\n",
       "\n",
       "    .dataframe tbody tr th {\n",
       "        vertical-align: top;\n",
       "    }\n",
       "\n",
       "    .dataframe thead th {\n",
       "        text-align: right;\n",
       "    }\n",
       "</style>\n",
       "<table border=\"1\" class=\"dataframe\">\n",
       "  <thead>\n",
       "    <tr style=\"text-align: right;\">\n",
       "      <th></th>\n",
       "      <th>Sample</th>\n",
       "    </tr>\n",
       "  </thead>\n",
       "  <tbody>\n",
       "    <tr>\n",
       "      <th>AAACCTGAGCTAACAA-co1</th>\n",
       "      <td>0</td>\n",
       "    </tr>\n",
       "    <tr>\n",
       "      <th>AAACCTGAGGCAGGTT-co1</th>\n",
       "      <td>0</td>\n",
       "    </tr>\n",
       "    <tr>\n",
       "      <th>AAACCTGCACGTCTCT-co1</th>\n",
       "      <td>0</td>\n",
       "    </tr>\n",
       "    <tr>\n",
       "      <th>AAACCTGGTCTGCCAG-co1</th>\n",
       "      <td>0</td>\n",
       "    </tr>\n",
       "    <tr>\n",
       "      <th>AAACCTGGTGTCGCTG-co1</th>\n",
       "      <td>0</td>\n",
       "    </tr>\n",
       "    <tr>\n",
       "      <th>...</th>\n",
       "      <td>...</td>\n",
       "    </tr>\n",
       "    <tr>\n",
       "      <th>TTTGGTTCAAGACACG-iMac2</th>\n",
       "      <td>7</td>\n",
       "    </tr>\n",
       "    <tr>\n",
       "      <th>TTTGGTTGTGCCTGCA-iMac2</th>\n",
       "      <td>7</td>\n",
       "    </tr>\n",
       "    <tr>\n",
       "      <th>TTTGTCAAGGGATACC-iMac2</th>\n",
       "      <td>7</td>\n",
       "    </tr>\n",
       "    <tr>\n",
       "      <th>TTTGTCAGTCTCTCTG-iMac2</th>\n",
       "      <td>7</td>\n",
       "    </tr>\n",
       "    <tr>\n",
       "      <th>TTTGTCAGTGCAACTT-iMac2</th>\n",
       "      <td>7</td>\n",
       "    </tr>\n",
       "  </tbody>\n",
       "</table>\n",
       "<p>9780 rows × 1 columns</p>\n",
       "</div>"
      ],
      "text/plain": [
       "                       Sample\n",
       "AAACCTGAGCTAACAA-co1        0\n",
       "AAACCTGAGGCAGGTT-co1        0\n",
       "AAACCTGCACGTCTCT-co1        0\n",
       "AAACCTGGTCTGCCAG-co1        0\n",
       "AAACCTGGTGTCGCTG-co1        0\n",
       "...                       ...\n",
       "TTTGGTTCAAGACACG-iMac2      7\n",
       "TTTGGTTGTGCCTGCA-iMac2      7\n",
       "TTTGTCAAGGGATACC-iMac2      7\n",
       "TTTGTCAGTCTCTCTG-iMac2      7\n",
       "TTTGTCAGTGCAACTT-iMac2      7\n",
       "\n",
       "[9780 rows x 1 columns]"
      ]
     },
     "execution_count": 6,
     "metadata": {},
     "output_type": "execute_result"
    }
   ],
   "source": [
    "adata.obs"
   ]
  },
  {
   "cell_type": "code",
   "execution_count": 7,
   "id": "3873a2e4-fc89-49bc-8bf8-d13cf78f5f66",
   "metadata": {},
   "outputs": [],
   "source": [
    "#adata.obs['revised_cell_type'].unique()"
   ]
  },
  {
   "cell_type": "code",
   "execution_count": 8,
   "id": "1a7d7c9d-3b21-4cac-89ad-1d1c87d1ae3b",
   "metadata": {},
   "outputs": [],
   "source": [
    "#Subset a target cell type\n",
    "subset = adata[(adata.obs.index.isin(['AGCTCTCAGTTAAGTG-or1']))]"
   ]
  },
  {
   "cell_type": "code",
   "execution_count": 9,
   "id": "378c9cdb-e74c-4e42-ab43-dacb1681e78e",
   "metadata": {},
   "outputs": [
    {
     "data": {
      "text/html": [
       "<div>\n",
       "<style scoped>\n",
       "    .dataframe tbody tr th:only-of-type {\n",
       "        vertical-align: middle;\n",
       "    }\n",
       "\n",
       "    .dataframe tbody tr th {\n",
       "        vertical-align: top;\n",
       "    }\n",
       "\n",
       "    .dataframe thead th {\n",
       "        text-align: right;\n",
       "    }\n",
       "</style>\n",
       "<table border=\"1\" class=\"dataframe\">\n",
       "  <thead>\n",
       "    <tr style=\"text-align: right;\">\n",
       "      <th></th>\n",
       "      <th>Sample</th>\n",
       "    </tr>\n",
       "  </thead>\n",
       "  <tbody>\n",
       "    <tr>\n",
       "      <th>AGCTCTCAGTTAAGTG-or1</th>\n",
       "      <td>3</td>\n",
       "    </tr>\n",
       "  </tbody>\n",
       "</table>\n",
       "</div>"
      ],
      "text/plain": [
       "                     Sample\n",
       "AGCTCTCAGTTAAGTG-or1      3"
      ]
     },
     "execution_count": 9,
     "metadata": {},
     "output_type": "execute_result"
    }
   ],
   "source": [
    "subset.obs"
   ]
  },
  {
   "cell_type": "code",
   "execution_count": 10,
   "id": "4485b160-58dd-432e-84a7-4ed7e59007e6",
   "metadata": {},
   "outputs": [],
   "source": [
    "barcodes = subset.obs_names.tolist()\n",
    "features = subset.var_names.tolist()\n",
    "count_matrix = pd.DataFrame(subset.X.T)\n",
    "count_matrix = count_matrix.set_axis(barcodes, axis=1)\n",
    "count_matrix = count_matrix.set_axis(features, axis=0)\n",
    "count_matrix.to_csv(out+target_cell+'.tsv', sep='\\t', index=True, header=True)"
   ]
  },
  {
   "cell_type": "code",
   "execution_count": null,
   "id": "f0861750-15a3-48a3-9587-9e15971dee6a",
   "metadata": {},
   "outputs": [],
   "source": []
  }
 ],
 "metadata": {
  "kernelspec": {
   "display_name": "svi",
   "language": "python",
   "name": "svi"
  },
  "language_info": {
   "codemirror_mode": {
    "name": "ipython",
    "version": 3
   },
   "file_extension": ".py",
   "mimetype": "text/x-python",
   "name": "python",
   "nbconvert_exporter": "python",
   "pygments_lexer": "ipython3",
   "version": "3.10.13"
  }
 },
 "nbformat": 4,
 "nbformat_minor": 5
}
